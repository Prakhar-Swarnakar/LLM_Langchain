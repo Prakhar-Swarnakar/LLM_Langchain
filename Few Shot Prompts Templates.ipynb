{
 "cells": [
  {
   "cell_type": "code",
   "execution_count": null,
   "id": "7629b422",
   "metadata": {},
   "outputs": [],
   "source": [
    "#initial setup\n",
    "!pip install langchain\n",
    "from langchain.chat_models import ChatOpenAI\n",
    "import os\n",
    "os.environ[\"OpenAI_API_KEY\"]=\"vhgdxchmuyj\" #environment variable setting directly\n",
    "api_key = os.getenv(\"OpenAI_API_KEY\") # way to get the envi \n",
    "chat = ChatOpenAI(openai_api_key = api_key)\n",
    "from langchain.prompts import PromptTemplate, ChatPromptTemplate\n",
    "from langchain.prompts import SystemMessagePromptTemplate, AIMessagePromptTemplate, HumanMessagePromptTemplate"
   ]
  },
  {
   "cell_type": "code",
   "execution_count": null,
   "id": "0af2652b",
   "metadata": {},
   "outputs": [],
   "source": [
    "system_template = \"you are a  helpful legal assistant that translates complex legal terms into plain and understandable terms.\"\n",
    "system_message_prompt = SystemMessagePromptTemplate.from_template(system_template)"
   ]
  },
  {
   "cell_type": "code",
   "execution_count": 1,
   "id": "211720e9",
   "metadata": {},
   "outputs": [],
   "source": [
    "#Few Shots\n",
    "#Input Human\n",
    "#output AI\n",
    "\n",
    "legal_text = \"In a contract, the statute of frauds requires that certain types of agreements, such as those involving real estate or lasting more than one year, must be in writing to be enforceable.\" \n",
    "example_input_one = \n",
    "human_message_prompt = HumanMessagePromptTemplate.from_template(legal_text)\n",
    "plain_text = \"If you make an important deal with someone, like buying a house or agreeing to do a big job, the law says you need to write it down for it to be valid. It's like when you promise a friend to trade toys, but you write it down so everyone knows you both agreed. This rule is to make sure people are serious about important agreements and to avoid misunderstandings.\"\n",
    "example_output_one = AIMessagePromptTemplate.from_template(plain_text)\n",
    "\n",
    "#creaing a lot of these examples will take up the token limit count"
   ]
  },
  {
   "cell_type": "code",
   "execution_count": null,
   "id": "78f4fa9b",
   "metadata": {},
   "outputs": [],
   "source": [
    "#define human_message with \n",
    "human_message_template = \"{legal_text}\"\n",
    "human_message_prompt = HumanMessagePromptTemplate.from_template(human_message_template)"
   ]
  },
  {
   "cell_type": "code",
   "execution_count": null,
   "id": "2baf589a",
   "metadata": {},
   "outputs": [],
   "source": [
    "chat_prompt = ChatPromptTemplate.from_messages([system_message_prompt,human_message_prompt])\n",
    "\n",
    "example_legal_text = ''\n",
    "prompt = chat_prompt.format_prompt(legal_text = ).to_messages() \n",
    "result = chat(prompt)\n",
    "print(result.context)"
   ]
  }
 ],
 "metadata": {
  "kernelspec": {
   "display_name": "Python 3 (ipykernel)",
   "language": "python",
   "name": "python3"
  },
  "language_info": {
   "codemirror_mode": {
    "name": "ipython",
    "version": 3
   },
   "file_extension": ".py",
   "mimetype": "text/x-python",
   "name": "python",
   "nbconvert_exporter": "python",
   "pygments_lexer": "ipython3",
   "version": "3.11.4"
  }
 },
 "nbformat": 4,
 "nbformat_minor": 5
}
