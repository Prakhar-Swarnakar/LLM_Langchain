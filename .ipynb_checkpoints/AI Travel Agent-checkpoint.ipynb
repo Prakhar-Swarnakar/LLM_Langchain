{
 "cells": [
  {
   "cell_type": "code",
   "execution_count": null,
   "id": "cc1c2fc5",
   "metadata": {},
   "outputs": [],
   "source": [
    "#initial setup\n",
    "!pip install langchain\n",
    "from langchain.llms import ChatOpenAI\n",
    "import os\n",
    "os.environ[\"OpenAI_API_KEY\"]=\"vhgdxchmuyj\" #environment variable setting directly\n",
    "api_key = os.getenv(\"OpenAI_API_KEY\") # way to get the envi \n",
    "chat = ChatOpenAI(openai_api_key = api_key)\n",
    "from langchain.prompts import PromptTemplate, ChatPromptTemplate\n",
    "from langchain.prompts import SystemMessagePromptTemplate, AIMessagePromptTemplate, HumanMessagePromptTemplate\n",
    "from langchain.schema import AIMessage, HumanMessage, SystemMessage"
   ]
  },
  {
   "cell_type": "code",
   "execution_count": null,
   "id": "6bf99e4b",
   "metadata": {},
   "outputs": [],
   "source": [
    "system_template = \"you are an AI recipe assistant that specializes in {dietary_preference} dishes that can be prepared in {cooking_time}\"\n",
    "system_message_prompt = SystemMessagePromptTemplate.from_template(system_template)\n",
    "message_template = \"{recipe_request}\"\n",
    "human_message_prompt = HumanMessagePromptTemplate.from_template(message_template)\n",
    "chat_prompt = ChatPromptTemplate.from_messages([system_message_prompt,human_message_prompt]) "
   ]
  },
  {
   "cell_type": "code",
   "execution_count": null,
   "id": "a38b9c5f",
   "metadata": {},
   "outputs": [],
   "source": [
    "chat_prompt.format_prompt(cooking_time = \"15 mins\", dietary_preference = \"vegan\", recipe_request =\"sandwitch\")"
   ]
  }
 ],
 "metadata": {
  "kernelspec": {
   "display_name": "Python 3 (ipykernel)",
   "language": "python",
   "name": "python3"
  },
  "language_info": {
   "codemirror_mode": {
    "name": "ipython",
    "version": 3
   },
   "file_extension": ".py",
   "mimetype": "text/x-python",
   "name": "python",
   "nbconvert_exporter": "python",
   "pygments_lexer": "ipython3",
   "version": "3.11.4"
  }
 },
 "nbformat": 4,
 "nbformat_minor": 5
}
