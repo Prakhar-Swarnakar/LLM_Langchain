{
 "cells": [
  {
   "cell_type": "code",
   "execution_count": null,
   "id": "b8079640",
   "metadata": {},
   "outputs": [],
   "source": [
    "!pip install langchain"
   ]
  },
  {
   "cell_type": "code",
   "execution_count": null,
   "id": "74dfa9c1",
   "metadata": {},
   "outputs": [],
   "source": [
    "from langchain.llms import OpenAI\n",
    "import os"
   ]
  },
  {
   "cell_type": "code",
   "execution_count": null,
   "id": "d319c546",
   "metadata": {},
   "outputs": [],
   "source": [
    "os.environ[\"OpenAI_API_KEY\"]=\"vhgdxchmuyj\" #environment variable setting directly\n",
    "api_key = os.getenv(\"OpenAI_API_KEY\") # way to get the envi "
   ]
  },
  {
   "cell_type": "code",
   "execution_count": null,
   "id": "2a9d1b2e",
   "metadata": {},
   "outputs": [],
   "source": [
    "f = open(\"C:Projects\\\\Files\\\\Code\\\\jupiter Code\\\\LLM\\\\OpenAI_Key.txt\")\n",
    "api_key=f.read()"
   ]
  },
  {
   "cell_type": "code",
   "execution_count": null,
   "id": "ecedc2ac",
   "metadata": {},
   "outputs": [],
   "source": [
    "llm = OpenAI(openai_api_key = api_key)"
   ]
  },
  {
   "cell_type": "code",
   "execution_count": null,
   "id": "7c70d740",
   "metadata": {},
   "outputs": [],
   "source": [
    "print(llm('here is a fact about Pluto:'))"
   ]
  },
  {
   "cell_type": "code",
   "execution_count": null,
   "id": "10430178",
   "metadata": {},
   "outputs": [],
   "source": [
    "llm.generate('here is a fact about pluto:')"
   ]
  },
  {
   "cell_type": "code",
   "execution_count": null,
   "id": "9f0d7c81",
   "metadata": {},
   "outputs": [],
   "source": [
    "# to complete one sentence"
   ]
  },
  {
   "cell_type": "code",
   "execution_count": null,
   "id": "bacdaee0",
   "metadata": {},
   "outputs": [],
   "source": [
    "#passing a list of promts\n",
    "result = llm.generate(['here is a fact about pluto','Hereis a fact about Mars'])"
   ]
  },
  {
   "cell_type": "code",
   "execution_count": null,
   "id": "424badcb",
   "metadata": {},
   "outputs": [],
   "source": [
    "result.schema # to see the schema of the result"
   ]
  },
  {
   "cell_type": "code",
   "execution_count": null,
   "id": "0d5e95be",
   "metadata": {},
   "outputs": [],
   "source": [
    "result.llm_output"
   ]
  },
  {
   "cell_type": "code",
   "execution_count": null,
   "id": "43a7e649",
   "metadata": {},
   "outputs": [],
   "source": [
    "#results come in genrations -> which ccan be filtered out \n",
    "result.generations"
   ]
  },
  {
   "cell_type": "code",
   "execution_count": null,
   "id": "4cf892a3",
   "metadata": {},
   "outputs": [],
   "source": []
  }
 ],
 "metadata": {
  "kernelspec": {
   "display_name": "Python 3 (ipykernel)",
   "language": "python",
   "name": "python3"
  },
  "language_info": {
   "codemirror_mode": {
    "name": "ipython",
    "version": 3
   },
   "file_extension": ".py",
   "mimetype": "text/x-python",
   "name": "python",
   "nbconvert_exporter": "python",
   "pygments_lexer": "ipython3",
   "version": "3.11.4"
  }
 },
 "nbformat": 4,
 "nbformat_minor": 5
}
